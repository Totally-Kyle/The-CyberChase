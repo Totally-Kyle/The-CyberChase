{
 "cells": [
  {
   "cell_type": "code",
   "execution_count": 1,
   "id": "1c1a5375",
   "metadata": {},
   "outputs": [],
   "source": [
    "import pandas as pd\n",
    "import numpy as np\n",
    "import matplotlib.pyplot as plt\n",
    "from geolite2 import  geolite2\n",
    "import seaborn as sns"
   ]
  },
  {
   "cell_type": "code",
   "execution_count": 2,
   "id": "c3196ffe",
   "metadata": {},
   "outputs": [],
   "source": [
    "feb9 = pd.read_csv('/Users/sa24/Capstone/The-CyberChase/Raw Data/2023-02-09.csv')"
   ]
  },
  {
   "cell_type": "code",
   "execution_count": null,
   "id": "1e288a68",
   "metadata": {},
   "outputs": [],
   "source": []
  }
 ],
 "metadata": {
  "kernelspec": {
   "display_name": "base",
   "language": "python",
   "name": "python3"
  },
  "language_info": {
   "codemirror_mode": {
    "name": "ipython",
    "version": 3
   },
   "file_extension": ".py",
   "mimetype": "text/x-python",
   "name": "python",
   "nbconvert_exporter": "python",
   "pygments_lexer": "ipython3",
   "version": "3.12.7"
  }
 },
 "nbformat": 4,
 "nbformat_minor": 5
}
