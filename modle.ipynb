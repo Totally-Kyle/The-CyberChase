{
 "cells": [
  {
   "cell_type": "code",
   "execution_count": 56,
   "metadata": {},
   "outputs": [],
   "source": [
    "\n",
    "import pandas as pd\n",
    "import numpy as np\n",
    "import matplotlib.pyplot as plt\n",
    "import seaborn as sns\n",
    "\n",
    "from sklearn.model_selection import train_test_split, GridSearchCV\n",
    "from sklearn.metrics import classification_report, accuracy_score, confusion_matrix, roc_curve, auc\n",
    "from sklearn.ensemble import RandomForestClassifier\n",
    "from sklearn.linear_model import LinearRegression"
   ]
  },
  {
   "cell_type": "code",
   "execution_count": 57,
   "metadata": {},
   "outputs": [
    {
     "name": "stdout",
     "output_type": "stream",
     "text": [
      "<class 'pandas.core.frame.DataFrame'>\n",
      "RangeIndex: 1543135 entries, 0 to 1543134\n",
      "Data columns (total 47 columns):\n",
      " #   Column                      Non-Null Count    Dtype  \n",
      "---  ------                      --------------    -----  \n",
      " 0   Src Port                    1543135 non-null  int64  \n",
      " 1   Flow Duration               1543135 non-null  int64  \n",
      " 2   Total Fwd Packet            1543135 non-null  int64  \n",
      " 3   Total Bwd packets           1543135 non-null  int64  \n",
      " 4   Total Length of Fwd Packet  1543135 non-null  float64\n",
      " 5   Fwd Packet Length Max       1543135 non-null  float64\n",
      " 6   Fwd Packet Length Min       1543135 non-null  float64\n",
      " 7   Bwd Packet Length Max       1543135 non-null  float64\n",
      " 8   Bwd Packet Length Min       1543135 non-null  float64\n",
      " 9   Bwd Packet Length Mean      1543135 non-null  float64\n",
      " 10  Bwd Packet Length Std       1543135 non-null  float64\n",
      " 11  Flow Bytes/s                1543135 non-null  float64\n",
      " 12  Flow Packets/s              1543135 non-null  float64\n",
      " 13  Flow IAT Mean               1543135 non-null  float64\n",
      " 14  Flow IAT Std                1543135 non-null  float64\n",
      " 15  Flow IAT Max                1543135 non-null  float64\n",
      " 16  Flow IAT Min                1543135 non-null  float64\n",
      " 17  Fwd IAT Total               1543135 non-null  float64\n",
      " 18  Fwd IAT Mean                1543135 non-null  float64\n",
      " 19  Fwd IAT Std                 1543135 non-null  float64\n",
      " 20  Fwd IAT Max                 1543135 non-null  float64\n",
      " 21  Fwd IAT Min                 1543135 non-null  float64\n",
      " 22  Bwd IAT Mean                1543135 non-null  float64\n",
      " 23  Fwd Packets/s               1543135 non-null  float64\n",
      " 24  Bwd Packets/s               1543135 non-null  float64\n",
      " 25  Packet Length Min           1543135 non-null  float64\n",
      " 26  Packet Length Mean          1543135 non-null  float64\n",
      " 27  Down/Up Ratio               1543135 non-null  float64\n",
      " 28  Fwd Segment Size Avg        1543135 non-null  float64\n",
      " 29  Bwd Packet/Bulk Avg         1543135 non-null  int64  \n",
      " 30  Bwd Bulk Rate Avg           1543135 non-null  int64  \n",
      " 31  Subflow Fwd Packets         1543135 non-null  int64  \n",
      " 32  Subflow Fwd Bytes           1543135 non-null  int64  \n",
      " 33  Subflow Bwd Bytes           1543135 non-null  int64  \n",
      " 34  Active Mean                 1543135 non-null  float64\n",
      " 35  Idle Mean                   1543135 non-null  float64\n",
      " 36  Idle Max                    1543135 non-null  float64\n",
      " 37  Location_China              1543135 non-null  int64  \n",
      " 38  Location_France             1543135 non-null  int64  \n",
      " 39  Location_Germany            1543135 non-null  int64  \n",
      " 40  Location_Hong Kong          1543135 non-null  int64  \n",
      " 41  Location_Iran               1543135 non-null  int64  \n",
      " 42  Location_Italy              1543135 non-null  int64  \n",
      " 43  Location_Japan              1543135 non-null  int64  \n",
      " 44  Location_Singapore          1543135 non-null  int64  \n",
      " 45  Location_United Kingdom     1543135 non-null  int64  \n",
      " 46  Location_United States      1543135 non-null  int64  \n",
      "dtypes: float64(28), int64(19)\n",
      "memory usage: 553.3 MB\n"
     ]
    }
   ],
   "source": [
    "# cleaned dataset\n",
    "df = pd.read_csv(\"/Users/sa2/Desktop/TKH/The-CyberChase/merged_df_clean.csv\")\n",
    "df.info()"
   ]
  },
  {
   "cell_type": "code",
   "execution_count": 58,
   "metadata": {},
   "outputs": [],
   "source": [
    "\n",
    "# separate features and target\n",
    "X = df.drop(columns=['Location_China','Location_France','Location_Germany','Location_Hong Kong','Location_Iran','Location_Italy','Location_Japan','Location_Singapore','Location_United Kingdom','Location_United States'])\n",
    "y = df[['Location_China','Location_France','Location_Germany','Location_Hong Kong','Location_Iran','Location_Italy','Location_Japan','Location_Singapore','Location_United Kingdom','Location_United States']]\n",
    "\n",
    "# Train-test split\n",
    "X_train, X_test, y_train, y_test = train_test_split(X, y, test_size=0.2, random_state=42)"
   ]
  },
  {
   "cell_type": "code",
   "execution_count": 59,
   "metadata": {},
   "outputs": [],
   "source": [
    "# undoing one hot encoding (one country per row)\n",
    "y_train_labels = y_train.idxmax(axis=1)\n",
    "y_test_labels = y_test.idxmax(axis=1)"
   ]
  },
  {
   "cell_type": "code",
   "execution_count": 60,
   "metadata": {},
   "outputs": [],
   "source": [
    "# Random Forest (baseline)\n",
    "rf = RandomForestClassifier(random_state=42)\n",
    "rf.fit(X_train, y_train_labels)\n",
    "rf_preds = rf.predict(X_test)\n"
   ]
  },
  {
   "cell_type": "code",
   "execution_count": 61,
   "metadata": {},
   "outputs": [
    {
     "name": "stdout",
     "output_type": "stream",
     "text": [
      "0.7802395772242869\n",
      "[[ 29297     47     95    326     81     40    392    104    117   3897]\n",
      " [    80   5107     22    403    136     24    203     10    389   1273]\n",
      " [   159     39  11016   2120   1544     40    311     50     49   2124]\n",
      " [   530    447   1465  24466   1305    125   1850     88    159   7760]\n",
      " [    15     13    518     95 101550    663     23      1    265   2953]\n",
      " [    81     10     65     37   1271   6208     92      7     14   1747]\n",
      " [   346    149    247   2467    392     56   8221    103    138   3309]\n",
      " [   202      8     78    268     22      6    237   5705      8    456]\n",
      " [   136    416    142    211   1057      9    112     37   3263   1334]\n",
      " [  1972    497   1165   9818   3938    499   1756    184    375  45970]]\n",
      "                         precision    recall  f1-score   support\n",
      "\n",
      "         Location_China       0.89      0.85      0.87     34396\n",
      "        Location_France       0.76      0.67      0.71      7647\n",
      "       Location_Germany       0.74      0.63      0.68     17452\n",
      "     Location_Hong Kong       0.61      0.64      0.62     38195\n",
      "          Location_Iran       0.91      0.96      0.93    106096\n",
      "         Location_Italy       0.81      0.65      0.72      9532\n",
      "         Location_Japan       0.62      0.53      0.57     15428\n",
      "     Location_Singapore       0.91      0.82      0.86      6990\n",
      "Location_United Kingdom       0.68      0.49      0.57      6717\n",
      " Location_United States       0.65      0.69      0.67     66174\n",
      "\n",
      "               accuracy                           0.78    308627\n",
      "              macro avg       0.76      0.69      0.72    308627\n",
      "           weighted avg       0.78      0.78      0.78    308627\n",
      "\n"
     ]
    }
   ],
   "source": [
    "print(accuracy_score(y_test_labels, rf_preds))\n",
    "print(confusion_matrix(y_test_labels, rf_preds))\n",
    "print(classification_report(y_test_labels, rf_preds))"
   ]
  },
  {
   "cell_type": "code",
   "execution_count": 62,
   "metadata": {},
   "outputs": [],
   "source": [
    "from sklearn.model_selection import RandomizedSearchCV\n",
    "from sklearn.utils import resample\n",
    "#for faster processsing of the models\n",
    "X_sample, y_sample = resample(X_train, y_train_labels, \n",
    "                             n_samples=300000, \n",
    "                             random_state=42, \n",
    "                             stratify=y_train_labels)"
   ]
  },
  {
   "cell_type": "code",
   "execution_count": 63,
   "metadata": {},
   "outputs": [
    {
     "name": "stderr",
     "output_type": "stream",
     "text": [
      "/opt/anaconda3/lib/python3.12/site-packages/joblib/externals/loky/process_executor.py:752: UserWarning: A worker stopped while some jobs were given to the executor. This can be caused by a too short worker timeout or by a memory leak.\n",
      "  warnings.warn(\n"
     ]
    },
    {
     "name": "stdout",
     "output_type": "stream",
     "text": [
      "{'n_estimators': 300, 'min_samples_split': 10, 'min_samples_leaf': 20, 'max_features': 0.5, 'max_depth': 30, 'class_weight': None}\n"
     ]
    }
   ],
   "source": [
    "#paramter search for random forest \n",
    "\n",
    "param_distributions = {\n",
    "    'n_estimators': [100, 200, 300, 500],\n",
    "    'max_depth': [15, 20, 25, 30],\n",
    "    'min_samples_split': [10, 20, 50, 100],\n",
    "    'min_samples_leaf': [5, 10, 20, 40],\n",
    "    'max_features': ['sqrt', 'log2', 0.5],\n",
    "    'class_weight': ['balanced', 'balanced_subsample', None]\n",
    "}\n",
    "\n",
    "random_search = RandomizedSearchCV(\n",
    "    RandomForestClassifier(random_state=42),\n",
    "    param_distributions,\n",
    "    n_iter=50,\n",
    "    cv=5,\n",
    "    scoring='accuracy',\n",
    "    n_jobs=-1,\n",
    "    random_state=42\n",
    ")\n",
    "\n",
    "random_search.fit(X_sample, y_sample)\n",
    "\n",
    "print(random_search.best_params_)"
   ]
  },
  {
   "cell_type": "code",
   "execution_count": 64,
   "metadata": {},
   "outputs": [
    {
     "name": "stdout",
     "output_type": "stream",
     "text": [
      "Accuracy: 0.8244742034883532\n",
      "[[ 29432     11      8    231     74     18    116     99     37   4370]\n",
      " [     8   5659      2    395    127     15     46      0    193   1202]\n",
      " [    41     17  11724   2128   1648      3    146     24      2   1719]\n",
      " [   497    447   1208  28854   1330    123   1454    141     90   4051]\n",
      " [     3      0    168      3 102552    258      0      0     38   3074]\n",
      " [    14      0     36      4   1226   6210     36      0      0   2006]\n",
      " [   166     64     96   1382    390     21  10515     87     44   2663]\n",
      " [   202      0     77    250     21      0     88   5936      0    416]\n",
      " [    29    498    147    167   1143      0     13     26   3238   1456]\n",
      " [   631    313    898   9779   3099    109    843    130     37  50335]]\n",
      "                         precision    recall  f1-score   support\n",
      "\n",
      "         Location_China       0.95      0.86      0.90     34396\n",
      "        Location_France       0.81      0.74      0.77      7647\n",
      "       Location_Germany       0.82      0.67      0.74     17452\n",
      "     Location_Hong Kong       0.67      0.76      0.71     38195\n",
      "          Location_Iran       0.92      0.97      0.94    106096\n",
      "         Location_Italy       0.92      0.65      0.76      9532\n",
      "         Location_Japan       0.79      0.68      0.73     15428\n",
      "     Location_Singapore       0.92      0.85      0.88      6990\n",
      "Location_United Kingdom       0.88      0.48      0.62      6717\n",
      " Location_United States       0.71      0.76      0.73     66174\n",
      "\n",
      "               accuracy                           0.82    308627\n",
      "              macro avg       0.84      0.74      0.78    308627\n",
      "           weighted avg       0.83      0.82      0.82    308627\n",
      "\n"
     ]
    }
   ],
   "source": [
    "#2nd random forest with hyperparmater tuning\n",
    "best_rf = RandomForestClassifier(**random_search.best_params_, random_state=42)\n",
    "best_rf.fit(X_train, y_train_labels)\n",
    "\n",
    "best_preds = best_rf.predict(X_test)\n",
    "print(\"Accuracy:\", accuracy_score(y_test_labels, best_preds))\n",
    "print(confusion_matrix(y_test_labels, best_preds))\n",
    "print(classification_report(y_test_labels, best_preds))\n"
   ]
  },
  {
   "cell_type": "code",
   "execution_count": 65,
   "metadata": {},
   "outputs": [
    {
     "name": "stderr",
     "output_type": "stream",
     "text": [
      "/opt/anaconda3/lib/python3.12/site-packages/joblib/externals/loky/process_executor.py:752: UserWarning: A worker stopped while some jobs were given to the executor. This can be caused by a too short worker timeout or by a memory leak.\n",
      "  warnings.warn(\n"
     ]
    },
    {
     "name": "stdout",
     "output_type": "stream",
     "text": [
      "{'n_estimators': 250, 'min_samples_leaf': 15, 'max_depth': 35, 'criterion': 'gini'}\n"
     ]
    }
   ],
   "source": [
    "#looking at values close to the best hyperparamters of the last tuning\n",
    "param_distributions = {\n",
    "    'n_estimators': [250, 300, 350],\n",
    "    'max_depth': [30, 35, 40],\n",
    "    'min_samples_leaf': [15, 20, 25],\n",
    "    'criterion': ['gini', 'entropy']\n",
    "}\n",
    "\n",
    "random_searchh = RandomizedSearchCV(\n",
    "    RandomForestClassifier(random_state=42, min_samples_split=10, max_features=0.5, class_weight=None),\n",
    "    param_distributions,\n",
    "    n_iter=30,\n",
    "    cv=5,\n",
    "    scoring='accuracy',\n",
    "    n_jobs=2,\n",
    "    random_state=43\n",
    ")\n",
    "\n",
    "random_searchh.fit(X_sample, y_sample)\n",
    "print(random_searchh.best_params_)\n"
   ]
  },
  {
   "cell_type": "code",
   "execution_count": 66,
   "metadata": {},
   "outputs": [
    {
     "name": "stdout",
     "output_type": "stream",
     "text": [
      "Accuracy: 0.7902840645828135\n",
      "[[ 28652      1     12    492     74     19    275     67     46   4758]\n",
      " [    14   4907      4    431    133      8    246      4    358   1542]\n",
      " [    85     19   9814   2964   1806      2    296     25      4   2437]\n",
      " [   867    435    738  27773   1361    120   1686     47    115   5053]\n",
      " [     2      0     46      0 103167     58      0      0      2   2821]\n",
      " [    22      0     58     36   1412   5670    112      2      0   2220]\n",
      " [   208    108    165   3209    390     25   7281     38    101   3903]\n",
      " [   436      1     70    264     21      9    399   5169      8    613]\n",
      " [    46    294     60    315   1177      0     47     30   3017   1731]\n",
      " [  1029    252    580  11308   3472     64    930     49     37  48453]]\n",
      "                         precision    recall  f1-score   support\n",
      "\n",
      "         Location_China       0.91      0.83      0.87     34396\n",
      "        Location_France       0.82      0.64      0.72      7647\n",
      "       Location_Germany       0.85      0.56      0.68     17452\n",
      "     Location_Hong Kong       0.59      0.73      0.65     38195\n",
      "          Location_Iran       0.91      0.97      0.94    106096\n",
      "         Location_Italy       0.95      0.59      0.73      9532\n",
      "         Location_Japan       0.65      0.47      0.55     15428\n",
      "     Location_Singapore       0.95      0.74      0.83      6990\n",
      "Location_United Kingdom       0.82      0.45      0.58      6717\n",
      " Location_United States       0.66      0.73      0.69     66174\n",
      "\n",
      "               accuracy                           0.79    308627\n",
      "              macro avg       0.81      0.67      0.72    308627\n",
      "           weighted avg       0.80      0.79      0.79    308627\n",
      "\n"
     ]
    }
   ],
   "source": [
    "#3rd random forest trying to find better hyperparams based on the last ones \n",
    "best_rff = RandomForestClassifier(**random_searchh.best_params_, random_state=42)\n",
    "best_rff.fit(X_train, y_train_labels)\n",
    "\n",
    "best_predss = best_rff.predict(X_test)\n",
    "print(\"Accuracy:\", accuracy_score(y_test_labels, best_predss))\n",
    "print(confusion_matrix(y_test_labels, best_predss))\n",
    "print(classification_report(y_test_labels, best_predss))\n"
   ]
  }
 ],
 "metadata": {
  "kernelspec": {
   "display_name": "base",
   "language": "python",
   "name": "python3"
  },
  "language_info": {
   "codemirror_mode": {
    "name": "ipython",
    "version": 3
   },
   "file_extension": ".py",
   "mimetype": "text/x-python",
   "name": "python",
   "nbconvert_exporter": "python",
   "pygments_lexer": "ipython3",
   "version": "3.12.4"
  }
 },
 "nbformat": 4,
 "nbformat_minor": 2
}
