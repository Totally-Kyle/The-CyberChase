{
 "cells": [
  {
   "cell_type": "markdown",
   "metadata": {},
   "source": [
    "### Testing to see if removing Bwd Flow Data will improve the performance of the model"
   ]
  },
  {
   "cell_type": "code",
   "execution_count": 6,
   "metadata": {},
   "outputs": [],
   "source": [
    "import pandas as pd\n",
    "import numpy as np\n",
    "from sklearn.preprocessing import StandardScaler\n",
    "from sklearn.linear_model import LogisticRegression\n",
    "from imblearn.ensemble import BalancedRandomForestClassifier\n",
    "from imblearn.ensemble import EasyEnsembleClassifier\n",
    "from sklearn.model_selection import train_test_split\n",
    "from sklearn.metrics import classification_report, confusion_matrix, accuracy_score\n",
    "from sklearn.model_selection import RandomizedSearchCV"
   ]
  },
  {
   "cell_type": "code",
   "execution_count": 7,
   "metadata": {},
   "outputs": [],
   "source": [
    "data = pd.read_csv('/Users/sa12/Documents/Repositories/The-CyberChase/DATA/CleanNoBwd')\n",
    "data = data.drop(columns='Unnamed: 0')"
   ]
  },
  {
   "cell_type": "code",
   "execution_count": 8,
   "metadata": {},
   "outputs": [],
   "source": [
    "X = data.drop(columns=['Country'])\n",
    "y = data['Country']\n",
    "X_train, X_test, y_train, y_test = train_test_split(X, y, test_size=0.2, random_state=42)\n"
   ]
  },
  {
   "cell_type": "code",
   "execution_count": 9,
   "metadata": {},
   "outputs": [],
   "source": [
    "scaler = StandardScaler()\n",
    "X_train_scaled = scaler.fit_transform(X_train)\n",
    "X_test_scaled = scaler.transform(X_test)"
   ]
  },
  {
   "cell_type": "code",
   "execution_count": 10,
   "metadata": {},
   "outputs": [
    {
     "name": "stdout",
     "output_type": "stream",
     "text": [
      "Accuracy: 0.5879802036034109\n"
     ]
    },
    {
     "name": "stderr",
     "output_type": "stream",
     "text": [
      "/opt/anaconda3/lib/python3.12/site-packages/sklearn/metrics/_classification.py:1509: UndefinedMetricWarning: Precision is ill-defined and being set to 0.0 in labels with no predicted samples. Use `zero_division` parameter to control this behavior.\n",
      "  _warn_prf(average, modifier, f\"{metric.capitalize()} is\", len(result))\n",
      "/opt/anaconda3/lib/python3.12/site-packages/sklearn/metrics/_classification.py:1509: UndefinedMetricWarning: Precision is ill-defined and being set to 0.0 in labels with no predicted samples. Use `zero_division` parameter to control this behavior.\n",
      "  _warn_prf(average, modifier, f\"{metric.capitalize()} is\", len(result))\n"
     ]
    },
    {
     "name": "stdout",
     "output_type": "stream",
     "text": [
      "\n",
      "Classification Report:\n",
      "               precision    recall  f1-score   support\n",
      "\n",
      "           1       0.82      1.00      0.90    106345\n",
      "           2       0.39      0.74      0.51     66113\n",
      "           3       0.19      0.05      0.08     38166\n",
      "           4       0.57      0.71      0.63     34184\n",
      "           5       0.00      0.00      0.00     17457\n",
      "           6       0.24      0.00      0.00     15483\n",
      "           7       0.00      0.00      0.00      9506\n",
      "           8       0.00      0.00      0.00      7749\n",
      "           9       0.00      0.00      0.00      7023\n",
      "          10       0.00      0.00      0.00      6515\n",
      "\n",
      "    accuracy                           0.59    308541\n",
      "   macro avg       0.22      0.25      0.21    308541\n",
      "weighted avg       0.46      0.59      0.50    308541\n",
      "\n",
      "\n",
      "Confusion Matrix:\n",
      " [[106185    144      0     16      0      0      0      0      0      0]\n",
      " [  9852  48851   1488   5911      1      9      0      1      0      0]\n",
      " [  1965  27355   1934   6893      0     19      0      0      0      0]\n",
      " [   227   7811   1701  24430      0     15      0      0      0      0]\n",
      " [  2773   8834   4163   1602      0      3      0      0      0     82]\n",
      " [  3768   9967    636   1096      0     16      0      0      0      0]\n",
      " [  3035   6115      6    349      0      1      0      0      0      0]\n",
      " [   372   6336     40    999      0      2      0      0      0      0]\n",
      " [   256   5079    335   1353      0      0      0      0      0      0]\n",
      " [  1171   5110     44    189      0      1      0      0      0      0]]\n"
     ]
    },
    {
     "name": "stderr",
     "output_type": "stream",
     "text": [
      "/opt/anaconda3/lib/python3.12/site-packages/sklearn/metrics/_classification.py:1509: UndefinedMetricWarning: Precision is ill-defined and being set to 0.0 in labels with no predicted samples. Use `zero_division` parameter to control this behavior.\n",
      "  _warn_prf(average, modifier, f\"{metric.capitalize()} is\", len(result))\n"
     ]
    }
   ],
   "source": [
    "log_model = LogisticRegression(\n",
    "    multi_class='multinomial',\n",
    "    solver='lbfgs',\n",
    "    max_iter=1000,\n",
    "    random_state=42\n",
    ")\n",
    "log_model.fit(X_train_scaled, y_train)\n",
    "log_pred = log_model.predict(X_test_scaled)\n",
    "print(\"Accuracy:\", accuracy_score(y_test, log_pred))\n",
    "print(\"\\nClassification Report:\\n\", classification_report(y_test, log_pred))\n",
    "print(\"\\nConfusion Matrix:\\n\", confusion_matrix(y_test, log_pred))"
   ]
  },
  {
   "cell_type": "code",
   "execution_count": 11,
   "metadata": {},
   "outputs": [
    {
     "name": "stderr",
     "output_type": "stream",
     "text": [
      "/opt/anaconda3/lib/python3.12/site-packages/imblearn/ensemble/_forest.py:577: FutureWarning: The default of `sampling_strategy` will change from `'auto'` to `'all'` in version 0.13. This change will follow the implementation proposed in the original paper. Set to `'all'` to silence this warning and adopt the future behaviour.\n",
      "  warn(\n"
     ]
    },
    {
     "name": "stdout",
     "output_type": "stream",
     "text": [
      "Accuracy: 0.7598957674992951\n",
      "\n",
      "Classification Report:\n",
      "               precision    recall  f1-score   support\n",
      "\n",
      "           1       0.94      0.91      0.92    106345\n",
      "           2       0.72      0.52      0.61     66113\n",
      "           3       0.60      0.69      0.64     38166\n",
      "           4       0.91      0.84      0.88     34184\n",
      "           5       0.67      0.72      0.69     17457\n",
      "           6       0.54      0.66      0.60     15483\n",
      "           7       0.53      0.88      0.66      9506\n",
      "           8       0.69      0.74      0.71      7749\n",
      "           9       0.82      0.89      0.85      7023\n",
      "          10       0.39      0.70      0.50      6515\n",
      "\n",
      "    accuracy                           0.76    308541\n",
      "   macro avg       0.68      0.76      0.71    308541\n",
      "weighted avg       0.78      0.76      0.76    308541\n",
      "\n",
      "\n",
      "Confusion Matrix:\n",
      " [[97078   914     6     0  1737    16  3571    62     5  2956]\n",
      " [ 3704 34612 14056  1622  1413  3432  3758  1012   501  2003]\n",
      " [ 1259  1734 26297   805  2575  3543   135   957   428   433]\n",
      " [   52  3791   257 28699    32   695    26    55   204   373]\n",
      " [  850  1445  1505    70 12564   482    40    47    69   385]\n",
      " [  361  2164  1714   101   161 10244    27   217   162   332]\n",
      " [  159   785     9    14    31    62  8389     5     5    47]\n",
      " [  129   882    57    16    16   213    18  5750    24   644]\n",
      " [   19   277   119    74    83   143     0     4  6278    26]\n",
      " [  162  1239   116    12   118    35     6   276     3  4548]]\n"
     ]
    }
   ],
   "source": [
    "rf_model = BalancedRandomForestClassifier(n_estimators=100, bootstrap=False, random_state=42, replacement=True)\n",
    "rf_model.fit(X_train_scaled, y_train)\n",
    "rf_pred = rf_model.predict(X_test_scaled)\n",
    "print(\"Accuracy:\", accuracy_score(y_test, rf_pred))\n",
    "print(\"\\nClassification Report:\\n\", classification_report(y_test, rf_pred))\n",
    "print(\"\\nConfusion Matrix:\\n\", confusion_matrix(y_test, rf_pred))"
   ]
  },
  {
   "cell_type": "code",
   "execution_count": 12,
   "metadata": {},
   "outputs": [
    {
     "name": "stdout",
     "output_type": "stream",
     "text": [
      "Accuracy: 0.5685468057729767\n",
      "\n",
      "Classification Report:\n",
      "               precision    recall  f1-score   support\n",
      "\n",
      "           1       0.83      1.00      0.91    106345\n",
      "           2       0.35      0.03      0.05     66113\n",
      "           3       0.45      0.56      0.50     38166\n",
      "           4       0.46      0.77      0.58     34184\n",
      "           5       0.32      0.44      0.37     17457\n",
      "           6       0.26      0.35      0.30     15483\n",
      "           7       0.43      0.16      0.24      9506\n",
      "           8       0.08      0.15      0.11      7749\n",
      "           9       0.60      0.56      0.58      7023\n",
      "          10       0.12      0.03      0.04      6515\n",
      "\n",
      "    accuracy                           0.57    308541\n",
      "   macro avg       0.39      0.40      0.37    308541\n",
      "weighted avg       0.53      0.57      0.51    308541\n",
      "\n",
      "\n",
      "Confusion Matrix:\n",
      " [[106217      0      0    101      2      0      7     15      3      0]\n",
      " [ 10947   1785  16060  18932   4221   6286   1056   5264   1332    230]\n",
      " [  3067    984  21242   2696   2474   2485    359   4610    155     94]\n",
      " [   729   1030   1165  26298   1723    448    213   1500    652    426]\n",
      " [  2343     84   3220   1891   7642   1162     68    479    262    306]\n",
      " [   482    793   1968   2018   3236   5439    216   1102    146     83]\n",
      " [  2673      6      1    474   4311    369   1542    103     27      0]\n",
      " [   205    262   2761    661    211   2375     45   1186     33     10]\n",
      " [   182     91    106   1677    304    567     11     84   3906     95]\n",
      " [  1242     69    219   2255    125   2003     55    363     21    163]]\n"
     ]
    }
   ],
   "source": [
    "EE_model = EasyEnsembleClassifier(n_estimators=10, random_state=42)\n",
    "EE_model.fit(X_train_scaled, y_train)\n",
    "EE_pred = EE_model.predict(X_test_scaled)\n",
    "print(\"Accuracy:\", accuracy_score(y_test, EE_pred))\n",
    "print(\"\\nClassification Report:\\n\", classification_report(y_test, EE_pred))\n",
    "print(\"\\nConfusion Matrix:\\n\", confusion_matrix(y_test, EE_pred))"
   ]
  },
  {
   "cell_type": "markdown",
   "metadata": {},
   "source": [
    "### While there is a very slight increase in the RF model, the other 2 models suffered meaning we will retain that data"
   ]
  }
 ],
 "metadata": {
  "kernelspec": {
   "display_name": "base",
   "language": "python",
   "name": "python3"
  },
  "language_info": {
   "codemirror_mode": {
    "name": "ipython",
    "version": 3
   },
   "file_extension": ".py",
   "mimetype": "text/x-python",
   "name": "python",
   "nbconvert_exporter": "python",
   "pygments_lexer": "ipython3",
   "version": "3.12.4"
  }
 },
 "nbformat": 4,
 "nbformat_minor": 2
}
